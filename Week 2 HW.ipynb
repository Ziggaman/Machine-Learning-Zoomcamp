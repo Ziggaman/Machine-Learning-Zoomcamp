{
 "cells": [
  {
   "cell_type": "code",
   "execution_count": 93,
   "id": "723449e2",
   "metadata": {},
   "outputs": [],
   "source": [
    "import pandas as pd\n",
    "import numpy as np\n",
    "\n",
    "import seaborn as sns\n",
    "from matplotlib import pyplot as plt\n",
    "%matplotlib inline"
   ]
  },
  {
   "cell_type": "code",
   "execution_count": 94,
   "id": "e08112d4",
   "metadata": {},
   "outputs": [],
   "source": [
    "df = pd.read_csv('AB_NYC_2019.csv')"
   ]
  },
  {
   "cell_type": "code",
   "execution_count": 95,
   "id": "05f699b9",
   "metadata": {},
   "outputs": [
    {
     "data": {
      "text/html": [
       "<div>\n",
       "<style scoped>\n",
       "    .dataframe tbody tr th:only-of-type {\n",
       "        vertical-align: middle;\n",
       "    }\n",
       "\n",
       "    .dataframe tbody tr th {\n",
       "        vertical-align: top;\n",
       "    }\n",
       "\n",
       "    .dataframe thead th {\n",
       "        text-align: right;\n",
       "    }\n",
       "</style>\n",
       "<table border=\"1\" class=\"dataframe\">\n",
       "  <thead>\n",
       "    <tr style=\"text-align: right;\">\n",
       "      <th></th>\n",
       "      <th>id</th>\n",
       "      <th>name</th>\n",
       "      <th>host_id</th>\n",
       "      <th>host_name</th>\n",
       "      <th>neighbourhood_group</th>\n",
       "      <th>neighbourhood</th>\n",
       "      <th>latitude</th>\n",
       "      <th>longitude</th>\n",
       "      <th>room_type</th>\n",
       "      <th>price</th>\n",
       "      <th>minimum_nights</th>\n",
       "      <th>number_of_reviews</th>\n",
       "      <th>last_review</th>\n",
       "      <th>reviews_per_month</th>\n",
       "      <th>calculated_host_listings_count</th>\n",
       "      <th>availability_365</th>\n",
       "    </tr>\n",
       "  </thead>\n",
       "  <tbody>\n",
       "    <tr>\n",
       "      <th>0</th>\n",
       "      <td>2539</td>\n",
       "      <td>Clean &amp; quiet apt home by the park</td>\n",
       "      <td>2787</td>\n",
       "      <td>John</td>\n",
       "      <td>Brooklyn</td>\n",
       "      <td>Kensington</td>\n",
       "      <td>40.64749</td>\n",
       "      <td>-73.97237</td>\n",
       "      <td>Private room</td>\n",
       "      <td>149</td>\n",
       "      <td>1</td>\n",
       "      <td>9</td>\n",
       "      <td>2018-10-19</td>\n",
       "      <td>0.21</td>\n",
       "      <td>6</td>\n",
       "      <td>365</td>\n",
       "    </tr>\n",
       "    <tr>\n",
       "      <th>1</th>\n",
       "      <td>2595</td>\n",
       "      <td>Skylit Midtown Castle</td>\n",
       "      <td>2845</td>\n",
       "      <td>Jennifer</td>\n",
       "      <td>Manhattan</td>\n",
       "      <td>Midtown</td>\n",
       "      <td>40.75362</td>\n",
       "      <td>-73.98377</td>\n",
       "      <td>Entire home/apt</td>\n",
       "      <td>225</td>\n",
       "      <td>1</td>\n",
       "      <td>45</td>\n",
       "      <td>2019-05-21</td>\n",
       "      <td>0.38</td>\n",
       "      <td>2</td>\n",
       "      <td>355</td>\n",
       "    </tr>\n",
       "  </tbody>\n",
       "</table>\n",
       "</div>"
      ],
      "text/plain": [
       "     id                                name  host_id host_name  \\\n",
       "0  2539  Clean & quiet apt home by the park     2787      John   \n",
       "1  2595               Skylit Midtown Castle     2845  Jennifer   \n",
       "\n",
       "  neighbourhood_group neighbourhood  latitude  longitude        room_type  \\\n",
       "0            Brooklyn    Kensington  40.64749  -73.97237     Private room   \n",
       "1           Manhattan       Midtown  40.75362  -73.98377  Entire home/apt   \n",
       "\n",
       "   price  minimum_nights  number_of_reviews last_review  reviews_per_month  \\\n",
       "0    149               1                  9  2018-10-19               0.21   \n",
       "1    225               1                 45  2019-05-21               0.38   \n",
       "\n",
       "   calculated_host_listings_count  availability_365  \n",
       "0                               6               365  \n",
       "1                               2               355  "
      ]
     },
     "execution_count": 95,
     "metadata": {},
     "output_type": "execute_result"
    }
   ],
   "source": [
    "df.head(2)"
   ]
  },
  {
   "cell_type": "code",
   "execution_count": 96,
   "id": "d3027a12",
   "metadata": {
    "scrolled": true
   },
   "outputs": [
    {
     "data": {
      "text/plain": [
       "<AxesSubplot:xlabel='price', ylabel='Count'>"
      ]
     },
     "execution_count": 96,
     "metadata": {},
     "output_type": "execute_result"
    },
    {
     "data": {
      "image/png": "[encoded data removed]",
      "text/plain": [
       "<Figure size 432x288 with 1 Axes>"
      ]
     },
     "metadata": {
      "needs_background": "light"
     },
     "output_type": "display_data"
    }
   ],
   "source": [
    "sns.histplot(df.price,bins = 100)"
   ]
  },
  {
   "cell_type": "code",
   "execution_count": 97,
   "id": "954d5633",
   "metadata": {},
   "outputs": [],
   "source": [
    "columns = ['latitude','longitude','price','minimum_nights','number_of_reviews','reviews_per_month',\n",
    "          'calculated_host_listings_count','availability_365']"
   ]
  },
  {
   "cell_type": "code",
   "execution_count": 98,
   "id": "aeb2d805",
   "metadata": {
    "scrolled": true
   },
   "outputs": [
    {
     "data": {
      "text/html": [
       "<div>\n",
       "<style scoped>\n",
       "    .dataframe tbody tr th:only-of-type {\n",
       "        vertical-align: middle;\n",
       "    }\n",
       "\n",
       "    .dataframe tbody tr th {\n",
       "        vertical-align: top;\n",
       "    }\n",
       "\n",
       "    .dataframe thead th {\n",
       "        text-align: right;\n",
       "    }\n",
       "</style>\n",
       "<table border=\"1\" class=\"dataframe\">\n",
       "  <thead>\n",
       "    <tr style=\"text-align: right;\">\n",
       "      <th></th>\n",
       "      <th>latitude</th>\n",
       "      <th>longitude</th>\n",
       "      <th>price</th>\n",
       "      <th>minimum_nights</th>\n",
       "      <th>number_of_reviews</th>\n",
       "      <th>reviews_per_month</th>\n",
       "      <th>calculated_host_listings_count</th>\n",
       "      <th>availability_365</th>\n",
       "    </tr>\n",
       "  </thead>\n",
       "  <tbody>\n",
       "    <tr>\n",
       "      <th>0</th>\n",
       "      <td>40.64749</td>\n",
       "      <td>-73.97237</td>\n",
       "      <td>149</td>\n",
       "      <td>1</td>\n",
       "      <td>9</td>\n",
       "      <td>0.21</td>\n",
       "      <td>6</td>\n",
       "      <td>365</td>\n",
       "    </tr>\n",
       "    <tr>\n",
       "      <th>1</th>\n",
       "      <td>40.75362</td>\n",
       "      <td>-73.98377</td>\n",
       "      <td>225</td>\n",
       "      <td>1</td>\n",
       "      <td>45</td>\n",
       "      <td>0.38</td>\n",
       "      <td>2</td>\n",
       "      <td>355</td>\n",
       "    </tr>\n",
       "  </tbody>\n",
       "</table>\n",
       "</div>"
      ],
      "text/plain": [
       "   latitude  longitude  price  minimum_nights  number_of_reviews  \\\n",
       "0  40.64749  -73.97237    149               1                  9   \n",
       "1  40.75362  -73.98377    225               1                 45   \n",
       "\n",
       "   reviews_per_month  calculated_host_listings_count  availability_365  \n",
       "0               0.21                               6               365  \n",
       "1               0.38                               2               355  "
      ]
     },
     "execution_count": 98,
     "metadata": {},
     "output_type": "execute_result"
    }
   ],
   "source": [
    "df_hw = df[columns]\n",
    "df_hw.head(2)"
   ]
  },
  {
   "cell_type": "code",
   "execution_count": 99,
   "id": "8312e174",
   "metadata": {
    "scrolled": true
   },
   "outputs": [
    {
     "data": {
      "text/plain": [
       "latitude                              0\n",
       "longitude                             0\n",
       "price                                 0\n",
       "minimum_nights                        0\n",
       "number_of_reviews                     0\n",
       "reviews_per_month                 10052\n",
       "calculated_host_listings_count        0\n",
       "availability_365                      0\n",
       "dtype: int64"
      ]
     },
     "execution_count": 99,
     "metadata": {},
     "output_type": "execute_result"
    }
   ],
   "source": [
    "df_hw.isnull().sum()"
   ]
  },
  {
   "cell_type": "code",
   "execution_count": 100,
   "id": "1513bb82",
   "metadata": {},
   "outputs": [
    {
     "data": {
      "text/plain": [
       "3.0"
      ]
     },
     "execution_count": 100,
     "metadata": {},
     "output_type": "execute_result"
    }
   ],
   "source": [
    "df_hw.minimum_nights.quantile(0.5)"
   ]
  },
  {
   "cell_type": "code",
   "execution_count": 101,
   "id": "153a487d",
   "metadata": {},
   "outputs": [
    {
     "data": {
      "text/plain": [
       "RangeIndex(start=0, stop=48895, step=1)"
      ]
     },
     "execution_count": 101,
     "metadata": {},
     "output_type": "execute_result"
    }
   ],
   "source": [
    "df_hw.index"
   ]
  },
  {
   "cell_type": "code",
   "execution_count": 102,
   "id": "0e5bb192",
   "metadata": {
    "scrolled": true
   },
   "outputs": [],
   "source": [
    "np.random.seed(42)\n",
    "\n",
    "n = len(df)\n",
    "# print ('length:%1f' % n)\n",
    "\n",
    "n_train = int(n*0.6)\n",
    "n_val = int(n*0.2)\n",
    "n_test = int(n*0.2)\n",
    "\n",
    "#putting the indices in an array\n",
    "idx = np.arange(n)\n",
    "# shuffling the indices\n",
    "np.random.shuffle(idx)\n",
    "\n",
    "# shuffling the dataframe\n",
    "df_shuffled = df_hw.iloc[idx]\n",
    "\n",
    "df_train = df_shuffled.iloc[:n_train].copy()\n",
    "df_val = df_shuffled.iloc[n_train: n_train + n_val].copy()\n",
    "df_test = df_shuffled.iloc[n_train + n_val:].copy()"
   ]
  },
  {
   "cell_type": "code",
   "execution_count": 103,
   "id": "e8967e27",
   "metadata": {},
   "outputs": [],
   "source": [
    "y_train_orig = df_train.price.values\n",
    "y_val_orig = df_val.price.values\n",
    "y_test_orig = df_test.price.values\n",
    "\n",
    "y_train = np.log1p(df_train.price.values)\n",
    "y_val = np.log1p(df_val.price.values)\n",
    "y_test = np.log1p(df_test.price.values)\n",
    "\n",
    "del df_train['price']\n",
    "del df_val['price']\n",
    "del df_test['price']\n"
   ]
  },
  {
   "cell_type": "markdown",
   "id": "637b362d",
   "metadata": {},
   "source": [
    "## Question 3"
   ]
  },
  {
   "cell_type": "code",
   "execution_count": 105,
   "id": "5c0b55ca",
   "metadata": {},
   "outputs": [],
   "source": [
    "def prepare (df,fill):\n",
    "    df = df.fillna(fill)\n",
    "    return df\n"
   ]
  },
  {
   "cell_type": "code",
   "execution_count": 106,
   "id": "ae5c244b",
   "metadata": {},
   "outputs": [],
   "source": [
    "## formalizing the equation\n",
    "def train_linear_regression (X,y):\n",
    "    #adding the bias or intercept\n",
    "    ones = np.ones(X.shape[0])\n",
    "    X = np.column_stack([ones,X])\n",
    "    \n",
    "    XTX = X.T.dot(X)\n",
    "    XTX_inv = np.linalg.inv(XTX)\n",
    "    w = XTX_inv.dot(X.T).dot(y)\n",
    "    \n",
    "    return w[0], w[1:]"
   ]
  },
  {
   "cell_type": "code",
   "execution_count": 107,
   "id": "f93f2f90",
   "metadata": {},
   "outputs": [],
   "source": [
    "def rmse (y, y_pred):\n",
    "    error = y_pred - y\n",
    "    mse = (error ** 2).mean()\n",
    "    return np.sqrt(mse)"
   ]
  },
  {
   "cell_type": "code",
   "execution_count": 109,
   "id": "e1269b51",
   "metadata": {},
   "outputs": [],
   "source": [
    "X_mean_train = prepare (df_train,df_train.reviews_per_month.mean())\n",
    "\n",
    "w_0_mean, w_mean = train_linear_regression (X_mean_train,y_train)"
   ]
  },
  {
   "cell_type": "code",
   "execution_count": 110,
   "id": "0b91bef7",
   "metadata": {},
   "outputs": [
    {
     "name": "stdout",
     "output_type": "stream",
     "text": [
      "-423.5393082023219\n",
      "[ 1.31148321e+00 -5.06799071e+00 -4.87741552e-04 -6.63849280e-04\n",
      "  5.34563274e-03  1.32706019e-03  6.38794182e-04]\n"
     ]
    }
   ],
   "source": [
    "print(w_0_mean)\n",
    "print(w_mean)"
   ]
  },
  {
   "cell_type": "code",
   "execution_count": 111,
   "id": "e91a5218",
   "metadata": {},
   "outputs": [],
   "source": [
    "X_mean_val = prepare (df_val, df_val.reviews_per_month.mean())\n",
    "\n",
    "y_mean_pred_val = w_0_mean + X_mean_val.dot(w_mean)"
   ]
  },
  {
   "cell_type": "code",
   "execution_count": 113,
   "id": "94156f88",
   "metadata": {},
   "outputs": [
    {
     "data": {
      "text/plain": [
       "0.642753584752629"
      ]
     },
     "execution_count": 113,
     "metadata": {},
     "output_type": "execute_result"
    }
   ],
   "source": [
    "rmse(y_val,y_mean_pred_val)"
   ]
  },
  {
   "cell_type": "code",
   "execution_count": 129,
   "id": "5e87d11c",
   "metadata": {},
   "outputs": [
    {
     "data": {
      "text/plain": [
       "0.6430337788467202"
      ]
     },
     "execution_count": 129,
     "metadata": {},
     "output_type": "execute_result"
    }
   ],
   "source": [
    "## filling blanks with zero\n",
    "\n",
    "X_zero_train = prepare (df_train,0)\n",
    "\n",
    "w_0_zero, w_zero = train_linear_regression (X_zero_train,y_train)\n",
    "\n",
    "\n",
    "X_zero_val = prepare (df_val, 0)\n",
    "\n",
    "y_zero_pred_val = w_0_zero + X_zero_val.dot(w_zero)\n",
    "\n",
    "rmse(y_val,y_zero_pred_val)"
   ]
  },
  {
   "cell_type": "markdown",
   "id": "60c85ad5",
   "metadata": {},
   "source": [
    "## Question 4"
   ]
  },
  {
   "cell_type": "code",
   "execution_count": 115,
   "id": "bbc54171",
   "metadata": {},
   "outputs": [],
   "source": [
    "def train_linear_regression_reg (X,y, r=0.0):\n",
    "    #adding the bias or intercept\n",
    "    ones = np.ones(X.shape[0])\n",
    "    X = np.column_stack([ones,X])\n",
    "    \n",
    "    XTX = X.T.dot(X)\n",
    "    # creating a matrix with the regulization number on the diagnal\n",
    "    reg = r * np.eye(XTX.shape[0])\n",
    "    # adding that regulirization to the matrix\n",
    "    XTX = XTX + reg\n",
    "    \n",
    "    \n",
    "    XTX_inv = np.linalg.inv(XTX)\n",
    "    w = XTX_inv.dot(X.T).dot(y)\n",
    "    \n",
    "    return w[0], w[1:]"
   ]
  },
  {
   "cell_type": "code",
   "execution_count": 127,
   "id": "6605fcb5",
   "metadata": {},
   "outputs": [
    {
     "name": "stdout",
     "output_type": "stream",
     "text": [
      "         0 -419.91265866086724 0.64\n",
      "     1e-06 -419.86271584310543 0.64\n",
      "    0.0001 -414.9764926433289 0.64\n",
      "     0.001 -375.27365274892543 0.64\n",
      "      0.01 -191.7838405478213 0.66\n",
      "       0.1 -32.562560550033176 0.68\n",
      "         1 -3.499216833574792 0.68\n",
      "         5 -0.7033623186161135 0.68\n",
      "        10 -0.35127676047352 0.68\n"
     ]
    }
   ],
   "source": [
    "# seeing which r \n",
    "\n",
    "X_zero_train = prepare (df_train,0)\n",
    "X_zero_val = prepare (df_val, 0)\n",
    "\n",
    "for r in [0, 0.000001, 0.0001, 0.001, 0.01, 0.1, 1, 5, 10]:\n",
    "    w_0, w = train_linear_regression_reg (X_zero_train, y_train, r=r)\n",
    "    y_zero_pred_val = w_0 + X_zero_val.dot(w)\n",
    "    print('%10s %s' %(r,w_0), np.round(rmse(y_val, y_zero_pred_val),2))"
   ]
  },
  {
   "cell_type": "markdown",
   "id": "a2d34ba0",
   "metadata": {},
   "source": [
    "## Question 5"
   ]
  },
  {
   "cell_type": "code",
   "execution_count": 172,
   "id": "60a2856f",
   "metadata": {
    "scrolled": true
   },
   "outputs": [
    {
     "name": "stdout",
     "output_type": "stream",
     "text": [
      "0 -427.62844627426284 0.65\n",
      "1 -414.70554908342683 0.65\n",
      "2 -423.2541336360157 0.65\n",
      "3 -421.8933158945776 0.64\n",
      "4 -422.06099098594575 0.64\n",
      "5 -429.178752276979 0.63\n",
      "6 -427.4918955557489 0.63\n",
      "7 -428.1884699089791 0.65\n",
      "8 -427.6929118381776 0.65\n",
      "9 -426.9826895542177 0.64\n"
     ]
    }
   ],
   "source": [
    "seeds = [0, 1, 2, 3, 4, 5, 6, 7, 8, 9]\n",
    "rmse_list = []\n",
    "\n",
    "for seed in seeds:\n",
    "    n = len(df)\n",
    "    n_train = int(n*0.6)\n",
    "    n_val = int(n*0.2)\n",
    "    n_test = int(n*0.2)\n",
    "    idx = np.arange(n)\n",
    "    \n",
    "    np.random.seed(seed)    \n",
    "    \n",
    "    np.random.shuffle(idx)\n",
    "\n",
    "    df_shuffled = df_hw.iloc[idx]\n",
    "\n",
    "    df_train = df_shuffled.iloc[:n_train].copy()\n",
    "    df_val = df_shuffled.iloc[n_train: n_train + n_val].copy()\n",
    "    df_test = df_shuffled.iloc[n_train + n_val:].copy()\n",
    "    \n",
    "#     y_train_orig = df_train.price.values\n",
    "#     y_val_orig = df_val.price.values\n",
    "#     y_test_orig = df_test.price.values\n",
    "\n",
    "    y_train = np.log1p(df_train.price.values)\n",
    "    y_val = np.log1p(df_val.price.values)\n",
    "    y_test = np.log1p(df_test.price.values)\n",
    "    \n",
    "    del df_train['price']\n",
    "    del df_val['price']\n",
    "    del df_test['price']\n",
    "    \n",
    "    X_zero_train = prepare (df_train,0)\n",
    "    \n",
    "#     print(X_zero_train.isnull().sum())\n",
    "\n",
    "    w_0_zero, w_zero = train_linear_regression (X_zero_train,y_train)\n",
    "    \n",
    "    X_zero_val = prepare (df_val, 0)\n",
    "\n",
    "    y_zero_pred_val = w_0_zero + X_zero_val.dot(w_zero)\n",
    "\n",
    "    rmse_val = np.round(rmse(y_val,y_zero_pred_val),2)\n",
    "    \n",
    "    rmse_list.append(rmse_val)\n",
    "    \n",
    "    print(seed,w_0_zero,rmse_val)"
   ]
  },
  {
   "cell_type": "code",
   "execution_count": 174,
   "id": "5d26858a",
   "metadata": {
    "scrolled": true
   },
   "outputs": [
    {
     "data": {
      "text/plain": [
       "0.008"
      ]
     },
     "execution_count": 174,
     "metadata": {},
     "output_type": "execute_result"
    }
   ],
   "source": [
    "np.round(np.std(rmse_list),3)"
   ]
  },
  {
   "cell_type": "markdown",
   "id": "aaa8a4fd",
   "metadata": {},
   "source": [
    "## Question 6"
   ]
  },
  {
   "cell_type": "code",
   "execution_count": 178,
   "id": "54bd0822",
   "metadata": {},
   "outputs": [],
   "source": [
    "np.random.seed(9)\n",
    "\n",
    "n = len(df)\n",
    "# print ('length:%1f' % n)\n",
    "\n",
    "n_train = int(n*0.6)\n",
    "n_val = int(n*0.2)\n",
    "n_test = int(n*0.2)\n",
    "\n",
    "#putting the indices in an array\n",
    "idx = np.arange(n)\n",
    "# shuffling the indices\n",
    "np.random.shuffle(idx)\n",
    "\n",
    "# shuffling the dataframe\n",
    "df_shuffled = df_hw.iloc[idx]\n",
    "\n",
    "df_train = df_shuffled.iloc[:n_train].copy()\n",
    "df_val = df_shuffled.iloc[n_train: n_train + n_val].copy()\n",
    "df_test = df_shuffled.iloc[n_train + n_val:].copy()\n",
    "\n",
    "y_train_orig = df_train.price.values\n",
    "y_val_orig = df_val.price.values\n",
    "y_test_orig = df_test.price.values\n",
    "\n",
    "y_train = np.log1p(df_train.price.values)\n",
    "y_val = np.log1p(df_val.price.values)\n",
    "y_test = np.log1p(df_test.price.values)\n",
    "\n",
    "del df_train['price']\n",
    "del df_val['price']\n",
    "del df_test['price']\n",
    "\n",
    "df_full_train = pd.concat([df_train,df_val])\n",
    "y_full_train = np.concatenate ([y_train,y_val])"
   ]
  },
  {
   "cell_type": "code",
   "execution_count": 181,
   "id": "d0e85810",
   "metadata": {},
   "outputs": [
    {
     "name": "stdout",
     "output_type": "stream",
     "text": [
      "-389.1162938295895 0.65\n"
     ]
    }
   ],
   "source": [
    "X_zero_train = prepare (df_full_train,0)\n",
    "\n",
    "w_0_zero_train_val, w_zero_train_val = train_linear_regression_reg (X_zero_train,y_full_train,r= 0.001)\n",
    "\n",
    "\n",
    "X_zero_test = prepare (df_test, 0)\n",
    "\n",
    "y_zero_pred_test = w_0_zero_train_val + X_zero_test.dot(w_zero_train_val)\n",
    "\n",
    "rmse_test = np.round(rmse(y_test,y_zero_pred_test),2)\n",
    "\n",
    "\n",
    "print(w_0_zero_train_val,rmse_test)"
   ]
  }
 ],
 "metadata": {
  "kernelspec": {
   "display_name": "Python 3",
   "language": "python",
   "name": "python3"
  },
  "language_info": {
   "codemirror_mode": {
    "name": "ipython",
    "version": 3
   },
   "file_extension": ".py",
   "mimetype": "text/x-python",
   "name": "python",
   "nbconvert_exporter": "python",
   "pygments_lexer": "ipython3",
   "version": "3.8.8"
  }
 },
 "nbformat": 4,
 "nbformat_minor": 5
}
